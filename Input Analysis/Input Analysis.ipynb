{
 "cells": [
  {
   "cell_type": "code",
   "execution_count": 101,
   "metadata": {},
   "outputs": [],
   "source": [
    "import math\n",
    "import pandas as pd\n",
    "import matplotlib.pyplot as plt\n",
    "import numpy as np\n",
    "import random"
   ]
  },
  {
   "cell_type": "code",
   "execution_count": 168,
   "metadata": {},
   "outputs": [],
   "source": [
    "df = pd.read_csv('NGSIM Trajectories.csv')"
   ]
  },
  {
   "cell_type": "code",
   "execution_count": 169,
   "metadata": {},
   "outputs": [],
   "source": [
    "df = df[df[\"Direction\"] != 4]"
   ]
  },
  {
   "cell_type": "code",
   "execution_count": 170,
   "metadata": {},
   "outputs": [],
   "source": [
    "df = df.drop(['Local_X', 'Local_Y', 'Global_X', 'Global_Y', 'Frame_ID', 'Tot_Frames', 'Veh_Len', 'Veh_Wid', 'Section', 'Direction', 'Veh_Class', 'Vehicle_Acc', 'Preceding_Veh', 'Following_Veh', 'Spacing', 'Headway'], axis=1)"
   ]
  },
  {
   "cell_type": "code",
   "execution_count": 184,
   "metadata": {},
   "outputs": [],
   "source": [
    "idx = df.groupby(\"Vehicle_ID\")['Epoch_ms'].transform(min) == df['Epoch_ms']\n",
    "df_min_match = df[idx].reset_index(drop=True)\n",
    "df_min_match = df_min_match.sort_values(by='Epoch_ms')\n",
    "\n",
    "idx = df.groupby(\"Vehicle_ID\")['Epoch_ms'].transform(max) == df['Epoch_ms']\n",
    "df_max_match = df[idx].reset_index(drop=True)\n",
    "df_max_match = df_max_match.sort_values(by='Epoch_ms')\n",
    "\n",
    "df_col = df.groupby(\"Vehicle_ID\").mean()['Veh_Velocity']\n",
    "df_col = df_col.reset_index(drop=True)\n",
    "df_min_match[\"Avg_Velocity\"] = df_col\n",
    "\n",
    "df_col = df.groupby(\"Vehicle_ID\").max()['Veh_Velocity']\n",
    "df_col = df_col.reset_index(drop=True)\n",
    "df_min_match[\"Max_Velocity\"] = df_col"
   ]
  },
  {
   "cell_type": "code",
   "execution_count": 186,
   "metadata": {},
   "outputs": [],
   "source": [
    "df_final = df_min_match.copy()\n",
    "df_final[\"Movement_Last\"] = df_max_match[\"Movement\"]\n",
    "df_final[\"Intersection_Last\"] = df_max_match[\"Intersection\"]\n",
    "df_final[\"Interarrival\"] = df_min_match[\"Epoch_ms\"].diff()\n",
    "df_final[\"Leave_Time\"] = df_max_match[\"Epoch_ms\"]"
   ]
  },
  {
   "cell_type": "code",
   "execution_count": 187,
   "metadata": {
    "scrolled": true
   },
   "outputs": [
    {
     "data": {
      "text/html": [
       "<div>\n",
       "<style scoped>\n",
       "    .dataframe tbody tr th:only-of-type {\n",
       "        vertical-align: middle;\n",
       "    }\n",
       "\n",
       "    .dataframe tbody tr th {\n",
       "        vertical-align: top;\n",
       "    }\n",
       "\n",
       "    .dataframe thead th {\n",
       "        text-align: right;\n",
       "    }\n",
       "</style>\n",
       "<table border=\"1\" class=\"dataframe\">\n",
       "  <thead>\n",
       "    <tr style=\"text-align: right;\">\n",
       "      <th></th>\n",
       "      <th>Vehicle_ID</th>\n",
       "      <th>Epoch_ms</th>\n",
       "      <th>Veh_Velocity</th>\n",
       "      <th>Lane_ID</th>\n",
       "      <th>Org_Zone</th>\n",
       "      <th>Dest_Zone</th>\n",
       "      <th>Intersection</th>\n",
       "      <th>Movement</th>\n",
       "      <th>Avg_Velocity</th>\n",
       "      <th>Max_Velocity</th>\n",
       "      <th>Movement_Last</th>\n",
       "      <th>Intersection_Last</th>\n",
       "      <th>Interarrival</th>\n",
       "      <th>Leave_Time</th>\n",
       "    </tr>\n",
       "  </thead>\n",
       "  <tbody>\n",
       "    <tr>\n",
       "      <th>0</th>\n",
       "      <td>2</td>\n",
       "      <td>1163033200</td>\n",
       "      <td>16.59</td>\n",
       "      <td>0</td>\n",
       "      <td>102</td>\n",
       "      <td>214</td>\n",
       "      <td>1</td>\n",
       "      <td>3</td>\n",
       "      <td>11.028804</td>\n",
       "      <td>51.32</td>\n",
       "      <td>1</td>\n",
       "      <td>5</td>\n",
       "      <td>NaN</td>\n",
       "      <td>1163201100</td>\n",
       "    </tr>\n",
       "    <tr>\n",
       "      <th>1</th>\n",
       "      <td>13</td>\n",
       "      <td>1163034600</td>\n",
       "      <td>20.01</td>\n",
       "      <td>0</td>\n",
       "      <td>102</td>\n",
       "      <td>203</td>\n",
       "      <td>1</td>\n",
       "      <td>3</td>\n",
       "      <td>17.780657</td>\n",
       "      <td>52.15</td>\n",
       "      <td>1</td>\n",
       "      <td>0</td>\n",
       "      <td>1400.0</td>\n",
       "      <td>1163092200</td>\n",
       "    </tr>\n",
       "    <tr>\n",
       "      <th>2</th>\n",
       "      <td>15</td>\n",
       "      <td>1163034800</td>\n",
       "      <td>17.29</td>\n",
       "      <td>1</td>\n",
       "      <td>101</td>\n",
       "      <td>214</td>\n",
       "      <td>0</td>\n",
       "      <td>1</td>\n",
       "      <td>11.986386</td>\n",
       "      <td>43.08</td>\n",
       "      <td>1</td>\n",
       "      <td>5</td>\n",
       "      <td>200.0</td>\n",
       "      <td>1163206000</td>\n",
       "    </tr>\n",
       "    <tr>\n",
       "      <th>3</th>\n",
       "      <td>17</td>\n",
       "      <td>1163036300</td>\n",
       "      <td>25.79</td>\n",
       "      <td>1</td>\n",
       "      <td>101</td>\n",
       "      <td>214</td>\n",
       "      <td>0</td>\n",
       "      <td>1</td>\n",
       "      <td>12.118666</td>\n",
       "      <td>46.42</td>\n",
       "      <td>1</td>\n",
       "      <td>5</td>\n",
       "      <td>1500.0</td>\n",
       "      <td>1163207900</td>\n",
       "    </tr>\n",
       "    <tr>\n",
       "      <th>4</th>\n",
       "      <td>21</td>\n",
       "      <td>1163039100</td>\n",
       "      <td>23.83</td>\n",
       "      <td>2</td>\n",
       "      <td>101</td>\n",
       "      <td>202</td>\n",
       "      <td>0</td>\n",
       "      <td>1</td>\n",
       "      <td>7.751914</td>\n",
       "      <td>23.83</td>\n",
       "      <td>1</td>\n",
       "      <td>0</td>\n",
       "      <td>2800.0</td>\n",
       "      <td>1163059900</td>\n",
       "    </tr>\n",
       "  </tbody>\n",
       "</table>\n",
       "</div>"
      ],
      "text/plain": [
       "   Vehicle_ID    Epoch_ms  Veh_Velocity  Lane_ID  Org_Zone  Dest_Zone  \\\n",
       "0           2  1163033200         16.59        0       102        214   \n",
       "1          13  1163034600         20.01        0       102        203   \n",
       "2          15  1163034800         17.29        1       101        214   \n",
       "3          17  1163036300         25.79        1       101        214   \n",
       "4          21  1163039100         23.83        2       101        202   \n",
       "\n",
       "   Intersection  Movement  Avg_Velocity  Max_Velocity  Movement_Last  \\\n",
       "0             1         3     11.028804         51.32              1   \n",
       "1             1         3     17.780657         52.15              1   \n",
       "2             0         1     11.986386         43.08              1   \n",
       "3             0         1     12.118666         46.42              1   \n",
       "4             0         1      7.751914         23.83              1   \n",
       "\n",
       "   Intersection_Last  Interarrival  Leave_Time  \n",
       "0                  5           NaN  1163201100  \n",
       "1                  0        1400.0  1163092200  \n",
       "2                  5         200.0  1163206000  \n",
       "3                  5        1500.0  1163207900  \n",
       "4                  0        2800.0  1163059900  "
      ]
     },
     "execution_count": 187,
     "metadata": {},
     "output_type": "execute_result"
    }
   ],
   "source": [
    "df_final.head()"
   ]
  },
  {
   "cell_type": "code",
   "execution_count": 188,
   "metadata": {},
   "outputs": [
    {
     "data": {
      "text/html": [
       "<div>\n",
       "<style scoped>\n",
       "    .dataframe tbody tr th:only-of-type {\n",
       "        vertical-align: middle;\n",
       "    }\n",
       "\n",
       "    .dataframe tbody tr th {\n",
       "        vertical-align: top;\n",
       "    }\n",
       "\n",
       "    .dataframe thead th {\n",
       "        text-align: right;\n",
       "    }\n",
       "</style>\n",
       "<table border=\"1\" class=\"dataframe\">\n",
       "  <thead>\n",
       "    <tr style=\"text-align: right;\">\n",
       "      <th></th>\n",
       "      <th>Vehicle_ID</th>\n",
       "      <th>Epoch_ms</th>\n",
       "      <th>Veh_Velocity</th>\n",
       "      <th>Lane_ID</th>\n",
       "      <th>Org_Zone</th>\n",
       "      <th>Dest_Zone</th>\n",
       "      <th>Intersection</th>\n",
       "      <th>Movement</th>\n",
       "      <th>Avg_Velocity</th>\n",
       "      <th>Max_Velocity</th>\n",
       "      <th>Movement_Last</th>\n",
       "      <th>Intersection_Last</th>\n",
       "      <th>Interarrival</th>\n",
       "      <th>Leave_Time</th>\n",
       "    </tr>\n",
       "  </thead>\n",
       "  <tbody>\n",
       "    <tr>\n",
       "      <th>0</th>\n",
       "      <td>2</td>\n",
       "      <td>1163033200</td>\n",
       "      <td>16.59</td>\n",
       "      <td>0</td>\n",
       "      <td>102</td>\n",
       "      <td>214</td>\n",
       "      <td>1</td>\n",
       "      <td>3</td>\n",
       "      <td>11.028804</td>\n",
       "      <td>51.32</td>\n",
       "      <td>1</td>\n",
       "      <td>6</td>\n",
       "      <td>NaN</td>\n",
       "      <td>1163201100</td>\n",
       "    </tr>\n",
       "    <tr>\n",
       "      <th>1</th>\n",
       "      <td>13</td>\n",
       "      <td>1163034600</td>\n",
       "      <td>20.01</td>\n",
       "      <td>0</td>\n",
       "      <td>102</td>\n",
       "      <td>203</td>\n",
       "      <td>1</td>\n",
       "      <td>3</td>\n",
       "      <td>17.780657</td>\n",
       "      <td>52.15</td>\n",
       "      <td>1</td>\n",
       "      <td>2</td>\n",
       "      <td>1400.0</td>\n",
       "      <td>1163092200</td>\n",
       "    </tr>\n",
       "    <tr>\n",
       "      <th>2</th>\n",
       "      <td>15</td>\n",
       "      <td>1163034800</td>\n",
       "      <td>17.29</td>\n",
       "      <td>1</td>\n",
       "      <td>101</td>\n",
       "      <td>214</td>\n",
       "      <td>0</td>\n",
       "      <td>1</td>\n",
       "      <td>11.986386</td>\n",
       "      <td>43.08</td>\n",
       "      <td>1</td>\n",
       "      <td>6</td>\n",
       "      <td>200.0</td>\n",
       "      <td>1163206000</td>\n",
       "    </tr>\n",
       "    <tr>\n",
       "      <th>3</th>\n",
       "      <td>17</td>\n",
       "      <td>1163036300</td>\n",
       "      <td>25.79</td>\n",
       "      <td>1</td>\n",
       "      <td>101</td>\n",
       "      <td>214</td>\n",
       "      <td>0</td>\n",
       "      <td>1</td>\n",
       "      <td>12.118666</td>\n",
       "      <td>46.42</td>\n",
       "      <td>1</td>\n",
       "      <td>6</td>\n",
       "      <td>1500.0</td>\n",
       "      <td>1163207900</td>\n",
       "    </tr>\n",
       "    <tr>\n",
       "      <th>4</th>\n",
       "      <td>21</td>\n",
       "      <td>1163039100</td>\n",
       "      <td>23.83</td>\n",
       "      <td>2</td>\n",
       "      <td>101</td>\n",
       "      <td>202</td>\n",
       "      <td>0</td>\n",
       "      <td>1</td>\n",
       "      <td>7.751914</td>\n",
       "      <td>23.83</td>\n",
       "      <td>1</td>\n",
       "      <td>1</td>\n",
       "      <td>2800.0</td>\n",
       "      <td>1163059900</td>\n",
       "    </tr>\n",
       "  </tbody>\n",
       "</table>\n",
       "</div>"
      ],
      "text/plain": [
       "   Vehicle_ID    Epoch_ms  Veh_Velocity  Lane_ID  Org_Zone  Dest_Zone  \\\n",
       "0           2  1163033200         16.59        0       102        214   \n",
       "1          13  1163034600         20.01        0       102        203   \n",
       "2          15  1163034800         17.29        1       101        214   \n",
       "3          17  1163036300         25.79        1       101        214   \n",
       "4          21  1163039100         23.83        2       101        202   \n",
       "\n",
       "   Intersection  Movement  Avg_Velocity  Max_Velocity  Movement_Last  \\\n",
       "0             1         3     11.028804         51.32              1   \n",
       "1             1         3     17.780657         52.15              1   \n",
       "2             0         1     11.986386         43.08              1   \n",
       "3             0         1     12.118666         46.42              1   \n",
       "4             0         1      7.751914         23.83              1   \n",
       "\n",
       "   Intersection_Last  Interarrival  Leave_Time  \n",
       "0                  6           NaN  1163201100  \n",
       "1                  2        1400.0  1163092200  \n",
       "2                  6         200.0  1163206000  \n",
       "3                  6        1500.0  1163207900  \n",
       "4                  1        2800.0  1163059900  "
      ]
     },
     "execution_count": 188,
     "metadata": {},
     "output_type": "execute_result"
    }
   ],
   "source": [
    "# map origin zone to the nearest entrance intersection in the northbound direction\n",
    "ent_0 = {101: 0}\n",
    "ent_1 = dict.fromkeys([102, 123], 1)\n",
    "ent_2 = dict.fromkeys([103, 122], 2)\n",
    "ent_3 = dict.fromkeys([105, 106, 121], 3)\n",
    "ent_4 = dict.fromkeys([108, 110, 111, 112, 119, 120], 4)\n",
    "ent_5 = dict.fromkeys([113, 115, 116, 117, 118], 5)\n",
    "intersection_entrances = {**ent_0, **ent_1, **ent_2, **ent_3, **ent_4, **ent_5}\n",
    "\n",
    "df_final['Intersection'] = df_final['Org_Zone'].map(intersection_entrances)\n",
    "\n",
    "# map destination zone to the nearest exit intersection in the northbound direction\n",
    "exit_1 = dict.fromkeys([202, 223], 1)\n",
    "exit_2 = dict.fromkeys([203, 222], 2)\n",
    "exit_3 = dict.fromkeys([204, 205, 206, 221], 3)\n",
    "exit_4 = dict.fromkeys([207, 208, 209, 210, 211, 220, 212], 4)\n",
    "exit_5 = dict.fromkeys([213, 215, 216, 217, 218], 5)\n",
    "exit_6 = {214: 6}\n",
    "intersection_exits = {**exit_1, **exit_2, **exit_3, **exit_4, **exit_5, **exit_6}\n",
    "\n",
    "df_final['Intersection_Last'] = df_final['Dest_Zone'].map(intersection_exits)\n",
    "\n",
    "df_final.head()"
   ]
  },
  {
   "cell_type": "code",
   "execution_count": 190,
   "metadata": {},
   "outputs": [],
   "source": [
    "validation_set, model_set = np.array_split(df_final, 2)\n",
    "\n",
    "model_set.to_csv(\"Processed_Vehicle_Data_Model.csv\", index=False)\n",
    "validation_set.to_csv(\"Processed_Vehicle_Data_Validation.csv\", index=False)"
   ]
  },
  {
   "cell_type": "markdown",
   "metadata": {},
   "source": [
    "# Input Analysis"
   ]
  },
  {
   "cell_type": "code",
   "execution_count": 159,
   "metadata": {},
   "outputs": [],
   "source": [
    "# helper functions and common variables\n",
    "\n",
    "l = len(model_set.index) # number of data cases\n",
    "b = round(math.sqrt(l)) \n",
    "\n",
    "def autocorrelation_plot(data, points, x_n, s_n):\n",
    "    p_k = []\n",
    "    \n",
    "    for k in range(1, points + 1):\n",
    "        top = 0\n",
    "        for j in range(0, len(data) - k):\n",
    "            top += (data[j] - x_n) * (data[j + k] - x_n)\n",
    "            \n",
    "        bottom = (len(data) - k) * s_n\n",
    "        p_k.append(top / bottom)\n",
    "        \n",
    "    plt.ylim(-1, 1)\n",
    "    x = range(1, len(p_k) + 1)\n",
    "    plt.scatter(x, p_k)\n",
    "    \n",
    "# compute x given two points and a y value\n",
    "def interpolate(point1, point2, y):\n",
    "    x_0 = point1[0]\n",
    "    y_0 = point1[1]\n",
    "    x_1 = point2[0]\n",
    "    y_1 = point2[1]\n",
    "    \n",
    "    return x_0 + ((y - y_0) * (x_1 - x_0)) / (y_1 - y_0)\n",
    "\n",
    "def compute_emp_dist(hist, y_i):\n",
    "    f = [0]\n",
    "    num_cases = sum(hist)\n",
    "    \n",
    "    for i in range(0, len(y_i) - 1):\n",
    "        bin_val = hist[i] / num_cases\n",
    "        f.append(bin_val + f[i])\n",
    "    \n",
    "    plt.scatter(y_i, f)\n",
    "    return list(zip(y_i, f))\n",
    "\n",
    "def compute_from_emp_dist(emp_dist):\n",
    "    rand = random.uniform(0, 1)\n",
    "    \n",
    "    if rand == 0: return 0\n",
    "    \n",
    "    # find correct bin\n",
    "    idx = 0\n",
    "    while idx < len(emp_dist) and rand > emp_dist[idx][1]:\n",
    "        idx += 1\n",
    "    \n",
    "    return round(interpolate(emp_dist[idx - 1], emp_dist[idx], rand))"
   ]
  },
  {
   "cell_type": "markdown",
   "metadata": {},
   "source": [
    "## Interarrival Time"
   ]
  },
  {
   "cell_type": "code",
   "execution_count": 160,
   "metadata": {},
   "outputs": [
    {
     "data": {
      "text/plain": [
       "<matplotlib.collections.PathCollection at 0x2861d046470>"
      ]
     },
     "execution_count": 160,
     "metadata": {},
     "output_type": "execute_result"
    },
    {
     "data": {
      "image/png": "[encoded data removed]",
      "text/plain": [
       "<Figure size 432x288 with 1 Axes>"
      ]
     },
     "metadata": {
      "needs_background": "light"
     },
     "output_type": "display_data"
    }
   ],
   "source": [
    "ia = model_set[\"Interarrival\"].values\n",
    "\n",
    "ia_mean = sum(ia) / len(ia)\n",
    "ia_var = np.var(ia)\n",
    "\n",
    "plt.scatter(list(range(0, len(ia))), ia)"
   ]
  },
  {
   "cell_type": "code",
   "execution_count": 161,
   "metadata": {},
   "outputs": [
    {
     "data": {
      "image/png": "[encoded data removed]",
      "text/plain": [
       "<Figure size 432x288 with 1 Axes>"
      ]
     },
     "metadata": {
      "needs_background": "light"
     },
     "output_type": "display_data"
    }
   ],
   "source": [
    "autocorrelation_plot(ia, 20, ia_mean, ia_var)"
   ]
  },
  {
   "cell_type": "code",
   "execution_count": 162,
   "metadata": {},
   "outputs": [
    {
     "data": {
      "image/png": "[encoded data removed]",
      "text/plain": [
       "<Figure size 432x288 with 1 Axes>"
      ]
     },
     "metadata": {
      "needs_background": "light"
     },
     "output_type": "display_data"
    }
   ],
   "source": [
    "n, y_i, _ = plt.hist(ia, b)"
   ]
  },
  {
   "cell_type": "code",
   "execution_count": 210,
   "metadata": {},
   "outputs": [
    {
     "data": {
      "image/png": "[encoded data removed]",
      "text/plain": [
       "<Figure size 432x288 with 1 Axes>"
      ]
     },
     "metadata": {
      "needs_background": "light"
     },
     "output_type": "display_data"
    }
   ],
   "source": [
    "emp_dist = compute_emp_dist(n.tolist(), y_i)"
   ]
  },
  {
   "cell_type": "code",
   "execution_count": 211,
   "metadata": {},
   "outputs": [
    {
     "name": "stdout",
     "output_type": "stream",
     "text": [
      "11.642434262175323\n"
     ]
    }
   ],
   "source": [
    "# seems like an exponential distribution...\n",
    "def compute_exponential_adequacy(obs_freq, class_intervals, mean, n):\n",
    "    lmbda = 1 / mean\n",
    "\n",
    "    ex_freq = [] # expected frequences E_i\n",
    "\n",
    "    # (F(x_i+1) - F(x_i)) * num_samples\n",
    "    for i in range(0, len(obs_freq)):\n",
    "        term_1 = 1 - math.exp(-lmbda * class_intervals[i + 1])\n",
    "        term_2 = 1 - math.exp(-lmbda * class_intervals[i])\n",
    "        ex_freq.append((term_1 - term_2) * n)\n",
    "\n",
    "    # combine e_i bins that are less than 5\n",
    "    i = 0\n",
    "    adequacy_measure = 0\n",
    "    while i < len(ex_freq) - 1:\n",
    "        j = i + 1\n",
    "        while ex_freq[i] < 5 and j < len(ex_freq):\n",
    "            ex_freq[i] += ex_freq[j]\n",
    "            obs_freq[i] += obs_freq[j]\n",
    "            j += 1\n",
    "    \n",
    "        ex_freq = ex_freq[:(i + 1)] + ex_freq[j:]\n",
    "        obs_freq = obs_freq[:(i + 1)] + obs_freq[j:]\n",
    "    \n",
    "        adequacy_measure += ((obs_freq[i] - ex_freq[i]) ** 2) / (ex_freq[i])\n",
    "    \n",
    "        i += 1\n",
    "\n",
    "    return adequacy_measure\n",
    "\n",
    "a_m = compute_exponential_adequacy(n.tolist(), y_i, ia_mean, len(ia))\n",
    "print(a_m)"
   ]
  },
  {
   "cell_type": "markdown",
   "metadata": {},
   "source": [
    "## Intersection Entrance"
   ]
  },
  {
   "cell_type": "code",
   "execution_count": 213,
   "metadata": {},
   "outputs": [
    {
     "name": "stdout",
     "output_type": "stream",
     "text": [
      "0    56\n",
      "1    34\n",
      "2     5\n",
      "3     3\n",
      "4    24\n",
      "5    35\n",
      "Name: Intersection, dtype: int64\n"
     ]
    },
    {
     "data": {
      "image/png": "[encoded data removed]",
      "text/plain": [
       "<Figure size 432x288 with 1 Axes>"
      ]
     },
     "metadata": {
      "needs_background": "light"
     },
     "output_type": "display_data"
    }
   ],
   "source": [
    "x = model_set[\"Intersection\"].value_counts()\n",
    "x = x.sort_index()\n",
    "a = plt.bar(list(x.index), list(x.values))\n",
    "\n",
    "print(x)"
   ]
  },
  {
   "cell_type": "markdown",
   "metadata": {},
   "source": [
    "## Intersection Exit"
   ]
  },
  {
   "cell_type": "code",
   "execution_count": 50,
   "metadata": {},
   "outputs": [
    {
     "name": "stdout",
     "output_type": "stream",
     "text": [
      "1     25\n",
      "2      7\n",
      "3      2\n",
      "4      4\n",
      "5     16\n",
      "6    103\n",
      "Name: Intersection_Last, dtype: int64\n"
     ]
    },
    {
     "data": {
      "image/png": "[encoded data removed]",
      "text/plain": [
       "<Figure size 432x288 with 1 Axes>"
      ]
     },
     "metadata": {
      "needs_background": "light"
     },
     "output_type": "display_data"
    }
   ],
   "source": [
    "x = model_set[\"Intersection_Last\"].value_counts()\n",
    "x = x.sort_index()\n",
    "print(x)\n",
    "a = plt.bar(list(x.index), list(x.values))"
   ]
  },
  {
   "cell_type": "markdown",
   "metadata": {},
   "source": [
    "## Vehicle Entrance Velocity"
   ]
  },
  {
   "cell_type": "code",
   "execution_count": 205,
   "metadata": {},
   "outputs": [
    {
     "data": {
      "text/plain": [
       "<matplotlib.collections.PathCollection at 0x2861df9fcc0>"
      ]
     },
     "execution_count": 205,
     "metadata": {},
     "output_type": "execute_result"
    },
    {
     "data": {
      "image/png": "[encoded data removed]",
      "text/plain": [
       "<Figure size 432x288 with 1 Axes>"
      ]
     },
     "metadata": {
      "needs_background": "light"
     },
     "output_type": "display_data"
    }
   ],
   "source": [
    "vel = model_set[\"Max_Velocity\"].values\n",
    "\n",
    "vel_mean = sum(vel) / len(vel)\n",
    "vel_var = np.var(vel)\n",
    "\n",
    "plt.scatter(list(range(0, len(vel))), vel)"
   ]
  },
  {
   "cell_type": "code",
   "execution_count": 206,
   "metadata": {},
   "outputs": [
    {
     "data": {
      "image/png": "[encoded data removed]",
      "text/plain": [
       "<Figure size 432x288 with 1 Axes>"
      ]
     },
     "metadata": {
      "needs_background": "light"
     },
     "output_type": "display_data"
    }
   ],
   "source": [
    "autocorrelation_plot(vel, 20, vel_mean, vel_var)"
   ]
  },
  {
   "cell_type": "code",
   "execution_count": 207,
   "metadata": {},
   "outputs": [
    {
     "data": {
      "image/png": "[encoded data removed]",
      "text/plain": [
       "<Figure size 432x288 with 1 Axes>"
      ]
     },
     "metadata": {
      "needs_background": "light"
     },
     "output_type": "display_data"
    }
   ],
   "source": [
    "veh_n, veh_y_i, _ = plt.hist(vel, b)"
   ]
  },
  {
   "cell_type": "code",
   "execution_count": 214,
   "metadata": {},
   "outputs": [
    {
     "data": {
      "image/png": "[encoded data removed]",
      "text/plain": [
       "<Figure size 432x288 with 1 Axes>"
      ]
     },
     "metadata": {
      "needs_background": "light"
     },
     "output_type": "display_data"
    }
   ],
   "source": [
    "veh_emp_dist = compute_emp_dist(veh_n, veh_y_i)"
   ]
  },
  {
   "cell_type": "code",
   "execution_count": 155,
   "metadata": {},
   "outputs": [
    {
     "name": "stdout",
     "output_type": "stream",
     "text": [
      "-2085.628774878506\n"
     ]
    }
   ],
   "source": [
    "# test to see if normal distribution\n",
    "def normal_dist(x, mu, variance):\n",
    "    first = math.exp(-((x - mu) ** 2) / (2 * variance))\n",
    "    second = 1 / (math.sqrt(2 * math.pi * variance))\n",
    "    \n",
    "    return first * second\n",
    "\n",
    "def compute_normal_adequacy(obs_freq, intervals, mean, variance, num):\n",
    "    ex_freq = [] # expected frequences E_i\n",
    "\n",
    "    # (F(x_i+1) - F(x_i)) * num_samples\n",
    "    for i in range(0, len(obs_freq)):\n",
    "        term_1 = normal_dist(intervals[i + 1], mean, variance)\n",
    "        term_2 = normal_dist(intervals[i], mean, variance)\n",
    "        ex_freq.append((term_1 - term_2) * num)\n",
    "        \n",
    "    # combine e_i bins that are less than 5\n",
    "    i = 0\n",
    "    adequacy_measure = 0\n",
    "    while i < len(ex_freq) - 1:\n",
    "        j = i + 1\n",
    "        while ex_freq[i] < 5 and j < len(ex_freq):\n",
    "            ex_freq[i] += ex_freq[j]\n",
    "            obs_freq[i] += obs_freq[j]\n",
    "            j += 1\n",
    "    \n",
    "        ex_freq = ex_freq[:(i + 1)] + ex_freq[j:]\n",
    "        obs_freq = obs_freq[:(i + 1)] + obs_freq[j:]\n",
    "    \n",
    "        adequacy_measure += ((obs_freq[i] - ex_freq[i]) ** 2) / (ex_freq[i])\n",
    "    \n",
    "        i += 1\n",
    "    \n",
    "    return adequacy_measure\n",
    "    \n",
    "    \n",
    "a_m = compute_normal_adequacy(vel_counts.tolist(), intervals, vel_mean, vel_var, len(vel))\n",
    "print(a_m) # definitely not a normal distribution, need to make empirical distribution"
   ]
  },
  {
   "cell_type": "markdown",
   "metadata": {},
   "source": [
    "## Movement (likely won't pursue)"
   ]
  },
  {
   "cell_type": "code",
   "execution_count": 56,
   "metadata": {},
   "outputs": [
    {
     "data": {
      "text/plain": [
       "([<matplotlib.axis.XTick at 0x2861d766400>,\n",
       "  <matplotlib.axis.XTick at 0x2861d747908>,\n",
       "  <matplotlib.axis.XTick at 0x2861d7478d0>],\n",
       " <a list of 3 Text xticklabel objects>)"
      ]
     },
     "execution_count": 56,
     "metadata": {},
     "output_type": "execute_result"
    },
    {
     "data": {
      "image/png": "[encoded data removed]",
      "text/plain": [
       "<Figure size 432x288 with 1 Axes>"
      ]
     },
     "metadata": {
      "needs_background": "light"
     },
     "output_type": "display_data"
    }
   ],
   "source": [
    "x = model_set[\"Movement\"].value_counts()\n",
    "x = x.sort_index()\n",
    "a = plt.bar(list(x.index), list(x.values))\n",
    "plt.xticks((1,2,3))"
   ]
  },
  {
   "cell_type": "code",
   "execution_count": null,
   "metadata": {},
   "outputs": [],
   "source": []
  }
 ],
 "metadata": {
  "kernelspec": {
   "display_name": "Python 3",
   "language": "python",
   "name": "python3"
  },
  "language_info": {
   "codemirror_mode": {
    "name": "ipython",
    "version": 3
   },
   "file_extension": ".py",
   "mimetype": "text/x-python",
   "name": "python",
   "nbconvert_exporter": "python",
   "pygments_lexer": "ipython3",
   "version": "3.7.1"
  }
 },
 "nbformat": 4,
 "nbformat_minor": 2
}
