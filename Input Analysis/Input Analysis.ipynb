{
 "cells": [
  {
   "cell_type": "code",
   "execution_count": 1,
   "metadata": {},
   "outputs": [],
   "source": [
    "import math\n",
    "import pandas as pd\n",
    "import matplotlib.pyplot as plt"
   ]
  },
  {
   "cell_type": "code",
   "execution_count": 2,
   "metadata": {},
   "outputs": [],
   "source": [
    "df = pd.read_csv('NGSIM Trajectories.csv')"
   ]
  },
  {
   "cell_type": "code",
   "execution_count": 3,
   "metadata": {},
   "outputs": [],
   "source": [
    "df = df[df[\"Direction\"] != 4]"
   ]
  },
  {
   "cell_type": "code",
   "execution_count": 4,
   "metadata": {},
   "outputs": [],
   "source": [
    "df = df.drop(['Local_X', 'Local_Y', 'Global_X', 'Global_Y', 'Frame_ID', 'Tot_Frames', 'Veh_Len', 'Veh_Wid', 'Section', 'Direction', 'Veh_Class', 'Vehicle_Acc', 'Preceding_Veh', 'Following_Veh', 'Spacing', 'Headway'], axis=1)"
   ]
  },
  {
   "cell_type": "code",
   "execution_count": 5,
   "metadata": {},
   "outputs": [],
   "source": [
    "idx = df.groupby(\"Vehicle_ID\")['Epoch_ms'].transform(min) == df['Epoch_ms']\n",
    "df_min_match = df[idx].reset_index(drop=True)\n",
    "df_min_match = df_min_match.sort_values(by='Epoch_ms')\n",
    "\n",
    "idx = df.groupby(\"Vehicle_ID\")['Epoch_ms'].transform(max) == df['Epoch_ms']\n",
    "df_max_match = df[idx].reset_index(drop=True)\n",
    "df_max_match = df_max_match.sort_values(by='Epoch_ms')"
   ]
  },
  {
   "cell_type": "code",
   "execution_count": 6,
   "metadata": {},
   "outputs": [],
   "source": [
    "df_final = df_min_match.copy()\n",
    "df_final[\"Movement_Last\"] = df_max_match[\"Movement\"]\n",
    "df_final[\"Intersection_Last\"] = df_max_match[\"Intersection\"]\n",
    "df_final[\"Interarrival\"] = df_min_match[\"Epoch_ms\"].diff()\n",
    "df_final[\"Leave_Time\"] = df_max_match[\"Epoch_ms\"]"
   ]
  },
  {
   "cell_type": "code",
   "execution_count": 7,
   "metadata": {
    "scrolled": true
   },
   "outputs": [
    {
     "data": {
      "text/html": [
       "<div>\n",
       "<style scoped>\n",
       "    .dataframe tbody tr th:only-of-type {\n",
       "        vertical-align: middle;\n",
       "    }\n",
       "\n",
       "    .dataframe tbody tr th {\n",
       "        vertical-align: top;\n",
       "    }\n",
       "\n",
       "    .dataframe thead th {\n",
       "        text-align: right;\n",
       "    }\n",
       "</style>\n",
       "<table border=\"1\" class=\"dataframe\">\n",
       "  <thead>\n",
       "    <tr style=\"text-align: right;\">\n",
       "      <th></th>\n",
       "      <th>Vehicle_ID</th>\n",
       "      <th>Epoch_ms</th>\n",
       "      <th>Veh_Velocity</th>\n",
       "      <th>Lane_ID</th>\n",
       "      <th>Org_Zone</th>\n",
       "      <th>Dest_Zone</th>\n",
       "      <th>Intersection</th>\n",
       "      <th>Movement</th>\n",
       "      <th>Movement_Last</th>\n",
       "      <th>Intersection_Last</th>\n",
       "      <th>Interarrival</th>\n",
       "      <th>Leave_Time</th>\n",
       "    </tr>\n",
       "  </thead>\n",
       "  <tbody>\n",
       "    <tr>\n",
       "      <th>0</th>\n",
       "      <td>2</td>\n",
       "      <td>1163033200</td>\n",
       "      <td>16.59</td>\n",
       "      <td>0</td>\n",
       "      <td>102</td>\n",
       "      <td>214</td>\n",
       "      <td>1</td>\n",
       "      <td>3</td>\n",
       "      <td>1</td>\n",
       "      <td>5</td>\n",
       "      <td>NaN</td>\n",
       "      <td>1163201100</td>\n",
       "    </tr>\n",
       "    <tr>\n",
       "      <th>1</th>\n",
       "      <td>13</td>\n",
       "      <td>1163034600</td>\n",
       "      <td>20.01</td>\n",
       "      <td>0</td>\n",
       "      <td>102</td>\n",
       "      <td>203</td>\n",
       "      <td>1</td>\n",
       "      <td>3</td>\n",
       "      <td>1</td>\n",
       "      <td>0</td>\n",
       "      <td>1400.0</td>\n",
       "      <td>1163092200</td>\n",
       "    </tr>\n",
       "    <tr>\n",
       "      <th>2</th>\n",
       "      <td>15</td>\n",
       "      <td>1163034800</td>\n",
       "      <td>17.29</td>\n",
       "      <td>1</td>\n",
       "      <td>101</td>\n",
       "      <td>214</td>\n",
       "      <td>0</td>\n",
       "      <td>1</td>\n",
       "      <td>1</td>\n",
       "      <td>5</td>\n",
       "      <td>200.0</td>\n",
       "      <td>1163206000</td>\n",
       "    </tr>\n",
       "    <tr>\n",
       "      <th>3</th>\n",
       "      <td>17</td>\n",
       "      <td>1163036300</td>\n",
       "      <td>25.79</td>\n",
       "      <td>1</td>\n",
       "      <td>101</td>\n",
       "      <td>214</td>\n",
       "      <td>0</td>\n",
       "      <td>1</td>\n",
       "      <td>1</td>\n",
       "      <td>5</td>\n",
       "      <td>1500.0</td>\n",
       "      <td>1163207900</td>\n",
       "    </tr>\n",
       "    <tr>\n",
       "      <th>4</th>\n",
       "      <td>21</td>\n",
       "      <td>1163039100</td>\n",
       "      <td>23.83</td>\n",
       "      <td>2</td>\n",
       "      <td>101</td>\n",
       "      <td>202</td>\n",
       "      <td>0</td>\n",
       "      <td>1</td>\n",
       "      <td>1</td>\n",
       "      <td>0</td>\n",
       "      <td>2800.0</td>\n",
       "      <td>1163059900</td>\n",
       "    </tr>\n",
       "  </tbody>\n",
       "</table>\n",
       "</div>"
      ],
      "text/plain": [
       "   Vehicle_ID    Epoch_ms  Veh_Velocity  Lane_ID  Org_Zone  Dest_Zone  \\\n",
       "0           2  1163033200         16.59        0       102        214   \n",
       "1          13  1163034600         20.01        0       102        203   \n",
       "2          15  1163034800         17.29        1       101        214   \n",
       "3          17  1163036300         25.79        1       101        214   \n",
       "4          21  1163039100         23.83        2       101        202   \n",
       "\n",
       "   Intersection  Movement  Movement_Last  Intersection_Last  Interarrival  \\\n",
       "0             1         3              1                  5           NaN   \n",
       "1             1         3              1                  0        1400.0   \n",
       "2             0         1              1                  5         200.0   \n",
       "3             0         1              1                  5        1500.0   \n",
       "4             0         1              1                  0        2800.0   \n",
       "\n",
       "   Leave_Time  \n",
       "0  1163201100  \n",
       "1  1163092200  \n",
       "2  1163206000  \n",
       "3  1163207900  \n",
       "4  1163059900  "
      ]
     },
     "execution_count": 7,
     "metadata": {},
     "output_type": "execute_result"
    }
   ],
   "source": [
    "df_final.head()"
   ]
  },
  {
   "cell_type": "code",
   "execution_count": 17,
   "metadata": {},
   "outputs": [
    {
     "data": {
      "text/html": [
       "<div>\n",
       "<style scoped>\n",
       "    .dataframe tbody tr th:only-of-type {\n",
       "        vertical-align: middle;\n",
       "    }\n",
       "\n",
       "    .dataframe tbody tr th {\n",
       "        vertical-align: top;\n",
       "    }\n",
       "\n",
       "    .dataframe thead th {\n",
       "        text-align: right;\n",
       "    }\n",
       "</style>\n",
       "<table border=\"1\" class=\"dataframe\">\n",
       "  <thead>\n",
       "    <tr style=\"text-align: right;\">\n",
       "      <th></th>\n",
       "      <th>Vehicle_ID</th>\n",
       "      <th>Epoch_ms</th>\n",
       "      <th>Veh_Velocity</th>\n",
       "      <th>Lane_ID</th>\n",
       "      <th>Org_Zone</th>\n",
       "      <th>Dest_Zone</th>\n",
       "      <th>Intersection</th>\n",
       "      <th>Movement</th>\n",
       "      <th>Movement_Last</th>\n",
       "      <th>Intersection_Last</th>\n",
       "      <th>Interarrival</th>\n",
       "      <th>Leave_Time</th>\n",
       "    </tr>\n",
       "  </thead>\n",
       "  <tbody>\n",
       "    <tr>\n",
       "      <th>0</th>\n",
       "      <td>2</td>\n",
       "      <td>1163033200</td>\n",
       "      <td>16.59</td>\n",
       "      <td>0</td>\n",
       "      <td>102</td>\n",
       "      <td>214</td>\n",
       "      <td>1</td>\n",
       "      <td>3</td>\n",
       "      <td>1</td>\n",
       "      <td>6</td>\n",
       "      <td>NaN</td>\n",
       "      <td>1163201100</td>\n",
       "    </tr>\n",
       "    <tr>\n",
       "      <th>1</th>\n",
       "      <td>13</td>\n",
       "      <td>1163034600</td>\n",
       "      <td>20.01</td>\n",
       "      <td>0</td>\n",
       "      <td>102</td>\n",
       "      <td>203</td>\n",
       "      <td>1</td>\n",
       "      <td>3</td>\n",
       "      <td>1</td>\n",
       "      <td>2</td>\n",
       "      <td>1400.0</td>\n",
       "      <td>1163092200</td>\n",
       "    </tr>\n",
       "    <tr>\n",
       "      <th>2</th>\n",
       "      <td>15</td>\n",
       "      <td>1163034800</td>\n",
       "      <td>17.29</td>\n",
       "      <td>1</td>\n",
       "      <td>101</td>\n",
       "      <td>214</td>\n",
       "      <td>0</td>\n",
       "      <td>1</td>\n",
       "      <td>1</td>\n",
       "      <td>6</td>\n",
       "      <td>200.0</td>\n",
       "      <td>1163206000</td>\n",
       "    </tr>\n",
       "    <tr>\n",
       "      <th>3</th>\n",
       "      <td>17</td>\n",
       "      <td>1163036300</td>\n",
       "      <td>25.79</td>\n",
       "      <td>1</td>\n",
       "      <td>101</td>\n",
       "      <td>214</td>\n",
       "      <td>0</td>\n",
       "      <td>1</td>\n",
       "      <td>1</td>\n",
       "      <td>6</td>\n",
       "      <td>1500.0</td>\n",
       "      <td>1163207900</td>\n",
       "    </tr>\n",
       "    <tr>\n",
       "      <th>4</th>\n",
       "      <td>21</td>\n",
       "      <td>1163039100</td>\n",
       "      <td>23.83</td>\n",
       "      <td>2</td>\n",
       "      <td>101</td>\n",
       "      <td>202</td>\n",
       "      <td>0</td>\n",
       "      <td>1</td>\n",
       "      <td>1</td>\n",
       "      <td>1</td>\n",
       "      <td>2800.0</td>\n",
       "      <td>1163059900</td>\n",
       "    </tr>\n",
       "  </tbody>\n",
       "</table>\n",
       "</div>"
      ],
      "text/plain": [
       "   Vehicle_ID    Epoch_ms  Veh_Velocity  Lane_ID  Org_Zone  Dest_Zone  \\\n",
       "0           2  1163033200         16.59        0       102        214   \n",
       "1          13  1163034600         20.01        0       102        203   \n",
       "2          15  1163034800         17.29        1       101        214   \n",
       "3          17  1163036300         25.79        1       101        214   \n",
       "4          21  1163039100         23.83        2       101        202   \n",
       "\n",
       "   Intersection  Movement  Movement_Last  Intersection_Last  Interarrival  \\\n",
       "0             1         3              1                  6           NaN   \n",
       "1             1         3              1                  2        1400.0   \n",
       "2             0         1              1                  6         200.0   \n",
       "3             0         1              1                  6        1500.0   \n",
       "4             0         1              1                  1        2800.0   \n",
       "\n",
       "   Leave_Time  \n",
       "0  1163201100  \n",
       "1  1163092200  \n",
       "2  1163206000  \n",
       "3  1163207900  \n",
       "4  1163059900  "
      ]
     },
     "execution_count": 17,
     "metadata": {},
     "output_type": "execute_result"
    }
   ],
   "source": [
    "# map origin zone to a specific entrance intersection\n",
    "ent_0 = {101: 0}\n",
    "ent_1 = dict.fromkeys([102, 123], 1)\n",
    "ent_2 = dict.fromkeys([103, 122], 2)\n",
    "ent_3 = dict.fromkeys([105, 106, 121], 3)\n",
    "ent_4 = dict.fromkeys([108, 110, 111, 112, 119, 120], 4)\n",
    "ent_5 = dict.fromkeys([113, 115, 116, 117, 118], 5)\n",
    "intersection_entrances = {**ent_0, **ent_1, **ent_2, **ent_3, **ent_4, **ent_5}\n",
    "\n",
    "df_final['Intersection'] = df_final['Org_Zone'].map(intersection_entrances)\n",
    "\n",
    "# map destination zone to a specific exit intersection\n",
    "exit_1 = dict.fromkeys([202, 223], 1)\n",
    "exit_2 = dict.fromkeys([203, 222], 2)\n",
    "exit_3 = dict.fromkeys([204, 205, 206, 221], 3)\n",
    "exit_4 = dict.fromkeys([207, 208, 209, 210, 211, 220, 212], 4)\n",
    "exit_5 = dict.fromkeys([213, 215, 216, 217, 218], 5)\n",
    "exit_6 = {214: 6}\n",
    "intersection_exits = {**exit_1, **exit_2, **exit_3, **exit_4, **exit_5, **exit_6}\n",
    "\n",
    "df_final['Intersection_Last'] = df_final['Dest_Zone'].map(intersection_exits)\n",
    "\n",
    "df_final.head()"
   ]
  },
  {
   "cell_type": "code",
   "execution_count": 18,
   "metadata": {},
   "outputs": [],
   "source": [
    "df_final.to_csv(\"Processed_vehicle_data.csv\", index=False)\n",
    "\n",
    "l = len(df_final.index)\n",
    "b = round(math.sqrt(l))"
   ]
  },
  {
   "cell_type": "code",
   "execution_count": 19,
   "metadata": {},
   "outputs": [
    {
     "data": {
      "image/png": "[encoded data removed]",
      "text/plain": [
       "<Figure size 432x288 with 1 Axes>"
      ]
     },
     "metadata": {
      "needs_background": "light"
     },
     "output_type": "display_data"
    }
   ],
   "source": [
    "n, bins, patches = plt.hist(df_final[\"Interarrival\"], b)"
   ]
  },
  {
   "cell_type": "code",
   "execution_count": 20,
   "metadata": {},
   "outputs": [
    {
     "name": "stdout",
     "output_type": "stream",
     "text": [
      "0    135\n",
      "1     62\n",
      "2     10\n",
      "3      6\n",
      "4     30\n",
      "5     71\n",
      "Name: Intersection, dtype: int64\n"
     ]
    },
    {
     "data": {
      "image/png": "[encoded data removed]",
      "text/plain": [
       "<Figure size 432x288 with 1 Axes>"
      ]
     },
     "metadata": {
      "needs_background": "light"
     },
     "output_type": "display_data"
    }
   ],
   "source": [
    "x = df_final[\"Intersection\"].value_counts()\n",
    "x = x.sort_index()\n",
    "a = plt.bar(list(x.index), list(x.values))\n",
    "\n",
    "print(x)"
   ]
  },
  {
   "cell_type": "code",
   "execution_count": 22,
   "metadata": {},
   "outputs": [
    {
     "name": "stdout",
     "output_type": "stream",
     "text": [
      "1     58\n",
      "2     16\n",
      "3      9\n",
      "4      9\n",
      "5     28\n",
      "6    194\n",
      "Name: Intersection_Last, dtype: int64\n"
     ]
    },
    {
     "data": {
      "image/png": "[encoded data removed]",
      "text/plain": [
       "<Figure size 432x288 with 1 Axes>"
      ]
     },
     "metadata": {
      "needs_background": "light"
     },
     "output_type": "display_data"
    }
   ],
   "source": [
    "x = df_final[\"Intersection_Last\"].value_counts()\n",
    "x = x.sort_index()\n",
    "print(x)\n",
    "a = plt.bar(list(x.index), list(x.values))"
   ]
  },
  {
   "cell_type": "code",
   "execution_count": 15,
   "metadata": {},
   "outputs": [
    {
     "data": {
      "image/png": "[encoded data removed]",
      "text/plain": [
       "<Figure size 432x288 with 1 Axes>"
      ]
     },
     "metadata": {
      "needs_background": "light"
     },
     "output_type": "display_data"
    }
   ],
   "source": [
    "n, bins, patches = plt.hist(df_final[\"Veh_Velocity\"], b)"
   ]
  },
  {
   "cell_type": "code",
   "execution_count": 16,
   "metadata": {},
   "outputs": [
    {
     "data": {
      "text/plain": [
       "([<matplotlib.axis.XTick at 0x219bee846d8>,\n",
       "  <matplotlib.axis.XTick at 0x219bee849b0>,\n",
       "  <matplotlib.axis.XTick at 0x219bee7eac8>],\n",
       " <a list of 3 Text xticklabel objects>)"
      ]
     },
     "execution_count": 16,
     "metadata": {},
     "output_type": "execute_result"
    },
    {
     "data": {
      "image/png": "[encoded data removed]",
      "text/plain": [
       "<Figure size 432x288 with 1 Axes>"
      ]
     },
     "metadata": {
      "needs_background": "light"
     },
     "output_type": "display_data"
    }
   ],
   "source": [
    "x = df_final[\"Movement\"].value_counts()\n",
    "x = x.sort_index()\n",
    "a = plt.bar(list(x.index), list(x.values))\n",
    "plt.xticks((1,2,3))"
   ]
  },
  {
   "cell_type": "code",
   "execution_count": null,
   "metadata": {},
   "outputs": [],
   "source": []
  }
 ],
 "metadata": {
  "kernelspec": {
   "display_name": "Python 3",
   "language": "python",
   "name": "python3"
  },
  "language_info": {
   "codemirror_mode": {
    "name": "ipython",
    "version": 3
   },
   "file_extension": ".py",
   "mimetype": "text/x-python",
   "name": "python",
   "nbconvert_exporter": "python",
   "pygments_lexer": "ipython3",
   "version": "3.7.1"
  }
 },
 "nbformat": 4,
 "nbformat_minor": 2
}
