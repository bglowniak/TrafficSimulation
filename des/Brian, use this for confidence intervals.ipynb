{
 "cells": [
  {
   "cell_type": "code",
   "execution_count": 15,
   "metadata": {},
   "outputs": [],
   "source": [
    "import numpy as np\n",
    "import matplotlib.pyplot as plt\n",
    "from scipy.stats import t"
   ]
  },
  {
   "cell_type": "code",
   "execution_count": 16,
   "metadata": {},
   "outputs": [],
   "source": [
    "RUNS = 10"
   ]
  },
  {
   "cell_type": "code",
   "execution_count": 17,
   "metadata": {},
   "outputs": [],
   "source": [
    "avgs = [50,51,52,53,54,55,56,57,58,59]\n",
    "stds = [51,52,53,54,55,56,57,58,59,60]"
   ]
  },
  {
   "cell_type": "code",
   "execution_count": 18,
   "metadata": {},
   "outputs": [
    {
     "name": "stdout",
     "output_type": "stream",
     "text": [
      "average_average: 54.50\n",
      "(47.65097906520306, 61.34902093479694)\n",
      "\n",
      "average_std: 55.50\n",
      "(48.65097906520306, 62.34902093479694)\n"
     ]
    }
   ],
   "source": [
    "#compute mean of the mean traversal times\n",
    "avg_avg = np.mean(avgs)\n",
    "print('average_average: {:.2f}'.format(avg_avg))\n",
    "#compute sample standard deviation of the mean traversal times\n",
    "avg_std = np.std(avgs, ddof=1)\n",
    "interval = t.interval(.95, RUNS-1, loc=avg_avg, scale=avg_std)\n",
    "print(interval)\n",
    "avg_err = (interval[1] - avg_avg)\n",
    "#print(\"distance from mean: {:.2f}\".format(avg_err))\n",
    "print('')\n",
    "\n",
    "#compute mean of the standard deviation traversal times\n",
    "std_avg = np.mean(stds)\n",
    "print('average_std: {:.2f}'.format(std_avg))\n",
    "#compute sample standard deviation of the mean traversal times\n",
    "std_std = np.std(stds, ddof=1)\n",
    "interval_std = t.interval(.95, RUNS-1, loc=std_avg, scale=std_std)\n",
    "print(interval_std)\n",
    "std_err = interval_std[1] - std_avg\n",
    "#print(\"distance from mean: {:.2f}\".format(std_err))\n"
   ]
  },
  {
   "cell_type": "code",
   "execution_count": 19,
   "metadata": {},
   "outputs": [
    {
     "data": {
      "image/png": "[encoded data removed]",
      "text/plain": [
       "<Figure size 432x288 with 1 Axes>"
      ]
     },
     "metadata": {
      "needs_background": "light"
     },
     "output_type": "display_data"
    }
   ],
   "source": [
    "plt.bar(['Mean', 'Standard Deviation'], [avg_avg, std_avg], width=.5, yerr=[avg_err, std_err], capsize=7)\n",
    "plt.ylabel('Vehicle Transit Time in Seconds')\n",
    "plt.show()"
   ]
  }
 ],
 "metadata": {
  "kernelspec": {
   "display_name": "Python 3",
   "language": "python",
   "name": "python3"
  },
  "language_info": {
   "codemirror_mode": {
    "name": "ipython",
    "version": 3
   },
   "file_extension": ".py",
   "mimetype": "text/x-python",
   "name": "python",
   "nbconvert_exporter": "python",
   "pygments_lexer": "ipython3",
   "version": "3.6.4"
  }
 },
 "nbformat": 4,
 "nbformat_minor": 2
}
